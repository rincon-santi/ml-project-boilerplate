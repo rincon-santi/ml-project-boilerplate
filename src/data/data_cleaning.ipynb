{
 "cells": [
  {
   "cell_type": "code",
   "execution_count": 1,
   "metadata": {
    "execution": {
     "iopub.execute_input": "2022-09-28T15:13:28.806373Z",
     "iopub.status.busy": "2022-09-28T15:13:28.805369Z",
     "iopub.status.idle": "2022-09-28T15:13:30.751984Z",
     "shell.execute_reply": "2022-09-28T15:13:30.750984Z"
    }
   },
   "outputs": [],
   "source": [
    "import numpy\n",
    "import pandavro\n",
    "import os\n",
    "import dvc.api\n",
    "import sys\n",
    "import json\n",
    "\n",
    "os.chdir('../..')\n",
    "sys.path.insert(1, '.')\n",
    "from src.data.data_cleaning_utils import *\n",
    "\n",
    "params = dvc.api.params_show(stages=['clean-data'])"
   ]
  },
  {
   "cell_type": "markdown",
   "metadata": {},
   "source": [
    "In this notebook, raw data must be analised and cleaned. Custom functions in order to do so find their place in `src.data.data_cleaning_utils`"
   ]
  }
 ],
 "metadata": {
  "kernelspec": {
   "display_name": "Python 3.9.13 ('base')",
   "language": "python",
   "name": "python3"
  },
  "language_info": {
   "codemirror_mode": {
    "name": "ipython",
    "version": 3
   },
   "file_extension": ".py",
   "mimetype": "text/x-python",
   "name": "python",
   "nbconvert_exporter": "python",
   "pygments_lexer": "ipython3",
   "version": "3.9.13"
  },
  "vscode": {
   "interpreter": {
    "hash": "efa96f6c6417b4011bc1b414ea6fd3ee40763b3fefb2b98ee4e55c26be0033a5"
   }
  }
 },
 "nbformat": 4,
 "nbformat_minor": 2
}
