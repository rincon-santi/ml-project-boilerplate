{
 "cells": [
  {
   "cell_type": "code",
   "execution_count": 1,
   "metadata": {
    "execution": {
     "iopub.execute_input": "2022-10-23T18:48:16.893446Z",
     "iopub.status.busy": "2022-10-23T18:48:16.892446Z",
     "iopub.status.idle": "2022-10-23T18:48:31.436428Z",
     "shell.execute_reply": "2022-10-23T18:48:31.434425Z"
    }
   },
   "outputs": [],
   "source": [
    "from functools import partial\n",
    "import os\n",
    "import pandas\n",
    "import pandavro\n",
    "import re\n",
    "import numpy as np\n",
    "import dvc.api\n",
    "import numpy\n",
    "import sys\n",
    "\n",
    "os.chdir('../..')\n",
    "sys.path.insert(1, '.')\n",
    "from src.features.data_to_features_function import data_to_features\n",
    "\n",
    "val_data = None\n",
    "params = dvc.api.params_show(stages=['validate', 'generate_features'])\n",
    "label_column = params['label_column']\n",
    "\n",
    "# Load data (from multiple files)\n",
    "for file in os.listdir('data/validation/'):\n",
    "    if re.search(\"^validation_complete-\", file):\n",
    "        partial_df = pandavro.from_avro('data/validation/'+file).replace(\"None\", np.NAN)\n",
    "        if val_data is None:\n",
    "            val_data = partial_df\n",
    "        else:\n",
    "            val_data = pandas.concat([val_data, partial_df], sort=False, ignore_index=True)"
   ]
  },
  {
   "cell_type": "markdown",
   "metadata": {},
   "source": [
    "Keep label apart from features"
   ]
  },
  {
   "cell_type": "code",
   "execution_count": 2,
   "metadata": {
    "execution": {
     "iopub.execute_input": "2022-10-23T18:48:31.445430Z",
     "iopub.status.busy": "2022-10-23T18:48:31.445430Z",
     "iopub.status.idle": "2022-10-23T18:48:31.574427Z",
     "shell.execute_reply": "2022-10-23T18:48:31.573424Z"
    }
   },
   "outputs": [],
   "source": [
    "val_data_features = val_data.drop(label_column, inplace=False, axis=1)\n",
    "val_data_label = val_data.loc[:,label_column]"
   ]
  },
  {
   "cell_type": "markdown",
   "metadata": {},
   "source": [
    "Generate features"
   ]
  },
  {
   "cell_type": "code",
   "execution_count": 3,
   "metadata": {
    "execution": {
     "iopub.execute_input": "2022-10-23T18:48:31.581430Z",
     "iopub.status.busy": "2022-10-23T18:48:31.580431Z",
     "iopub.status.idle": "2022-10-23T18:48:35.502892Z",
     "shell.execute_reply": "2022-10-23T18:48:35.500659Z"
    }
   },
   "outputs": [],
   "source": [
    "val_data_features = data_to_features(val_data_features)"
   ]
  },
  {
   "cell_type": "markdown",
   "metadata": {},
   "source": [
    "Ensure correct fields and only correct fields are present"
   ]
  },
  {
   "cell_type": "code",
   "execution_count": 4,
   "metadata": {
    "execution": {
     "iopub.execute_input": "2022-10-23T18:48:35.511703Z",
     "iopub.status.busy": "2022-10-23T18:48:35.511169Z",
     "iopub.status.idle": "2022-10-23T18:48:35.716846Z",
     "shell.execute_reply": "2022-10-23T18:48:35.715878Z"
    }
   },
   "outputs": [],
   "source": [
    "import json\n",
    "with open('docs/feature_schema.json', mode='r') as field_file:\n",
    "    fields = json.loads(field_file.read())\n",
    "    field_file.close()\n",
    "val_data_features = val_data_features[[field[\"name\"] for field in fields if field[\"name\"]!=label_column and field[\"name\"] in val_data_features.columns]]\n",
    "for field in fields:\n",
    "    if field[\"name\"]!=label_column and field[\"name\"] not in val_data_features.columns:\n",
    "        val_data_features.loc[:, field[\"name\"]] = 0"
   ]
  },
  {
   "cell_type": "markdown",
   "metadata": {},
   "source": [
    "Perform predictions"
   ]
  },
  {
   "cell_type": "code",
   "execution_count": 5,
   "metadata": {
    "execution": {
     "iopub.execute_input": "2022-10-23T18:48:35.723702Z",
     "iopub.status.busy": "2022-10-23T18:48:35.723702Z",
     "iopub.status.idle": "2022-10-23T18:49:08.164720Z",
     "shell.execute_reply": "2022-10-23T18:49:08.142910Z"
    }
   },
   "outputs": [
    {
     "name": "stdout",
     "output_type": "stream",
     "text": [
      "7958/7958 [==============================] - 17s 2ms/step - loss: 0.1130 - acc: 0.9988\n"
     ]
    }
   ],
   "source": [
    "import tensorflow as tf\n",
    "\n",
    "trained_model = tf.keras.models.load_model('trained_model')\n",
    "evaluation = trained_model.evaluate(np.asarray(val_data_features).astype('float32'), val_data_label, return_dict=True)"
   ]
  },
  {
   "cell_type": "markdown",
   "metadata": {},
   "source": [
    "Save validation results"
   ]
  },
  {
   "cell_type": "code",
   "execution_count": 6,
   "metadata": {
    "execution": {
     "iopub.execute_input": "2022-10-23T18:49:08.216185Z",
     "iopub.status.busy": "2022-10-23T18:49:08.212773Z",
     "iopub.status.idle": "2022-10-23T18:49:08.637253Z",
     "shell.execute_reply": "2022-10-23T18:49:08.635738Z"
    }
   },
   "outputs": [],
   "source": [
    "with open('metrics/validation_results.json', mode='w') as file:\n",
    "    file.write(json.dumps(evaluation))\n",
    "    file.close()"
   ]
  }
 ],
 "metadata": {
  "kernelspec": {
   "display_name": "Python 3.9.12 ('base')",
   "language": "python",
   "name": "python3"
  },
  "language_info": {
   "codemirror_mode": {
    "name": "ipython",
    "version": 3
   },
   "file_extension": ".py",
   "mimetype": "text/x-python",
   "name": "python",
   "nbconvert_exporter": "python",
   "pygments_lexer": "ipython3",
   "version": "3.9.12"
  },
  "vscode": {
   "interpreter": {
    "hash": "19d1d53a962d236aa061289c2ac16dc8e6d9648c89fe79f459ae9a3493bc67b4"
   }
  }
 },
 "nbformat": 4,
 "nbformat_minor": 2
}
